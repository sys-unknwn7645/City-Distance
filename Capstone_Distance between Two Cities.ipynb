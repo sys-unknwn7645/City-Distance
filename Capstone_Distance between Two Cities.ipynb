{
 "cells": [
  {
   "cell_type": "code",
   "execution_count": 1,
   "id": "78043153",
   "metadata": {},
   "outputs": [],
   "source": [
    "# Following codes calculates the distance between the user entered cities.\n",
    "# The code utilizes city cordinates found on the Wiki page to calcuate distance.\n",
    "# code utilizes BeautifulSoup4, Regular expression and Requests Library\n",
    "import requests\n",
    "import bs4\n",
    "import math\n",
    "import re"
   ]
  },
  {
   "cell_type": "code",
   "execution_count": 2,
   "id": "a86fc0d0",
   "metadata": {},
   "outputs": [],
   "source": [
    "def conv_cord(cord): #cord needs to be str in e.g. '83°02′45″W' format\n",
    "    \n",
    "    di = cord[len(cord)-1]\n",
    "    \n",
    "    def cor_cord(cord):\n",
    "        re1 = re.findall(r'\\W', cord)\n",
    "        for i in re1:\n",
    "            cord = cord.replace(i,'_')\n",
    "    \n",
    "    cord = re.findall(r'\\d{1,3}',cord)\n",
    "    \n",
    "    if len(cord) == 3:\n",
    "        coor_n_rad = (int(cord[0]) + int(cord[1])/60 + int(cord[2])/3600) * math.pi/180\n",
    "    elif len(cord) == 2: \n",
    "        coor_n_rad = (int(cord[0]) + int(cord[1])/60) * math.pi/180\n",
    "\n",
    "    if di in ['E', 'S']:\n",
    "        coor_n_rad = -1 * coor_n_rad\n",
    "    else:\n",
    "        pass\n",
    "\n",
    "    return coor_n_rad\n",
    "\n",
    "def dist_m(cord1, cord2):\n",
    "    # cord1 = [lat1, long1]\n",
    "    # cord2 = [lat2, long2]\n",
    "    return (math.acos(math.sin(cord1[0])*math.sin(cord2[0])+math.cos(cord1[0])*math.cos(cord2[0])*math.cos(cord1[1]-cord2[1])))*180*60/math.pi\n",
    "\n",
    "# "
   ]
  },
  {
   "cell_type": "code",
   "execution_count": 5,
   "id": "c7e7ed09",
   "metadata": {},
   "outputs": [
    {
     "name": "stdout",
     "output_type": "stream",
     "text": [
      "Enter city1 in the US : Los Angeles\n",
      "What state is Los Angeles in: California\n",
      "Enter city2 in the US : Miami\n",
      "What state is Miami in: Florida\n",
      "Distance: 2026.76nm\n",
      "Distance: 2330.78miles\n"
     ]
    }
   ],
   "source": [
    "# Using Wiki to get coordinate data\n",
    "# major cities use state in the url\n",
    "# smaller cities use Austin,_Texas\n",
    "\n",
    "city = []\n",
    "cord = []\n",
    "\n",
    "for i in range(1,3):\n",
    "    tmp_in = input(f\"Enter city{i} in the US : \")\n",
    "    tmp_st = input(f\"What state is {tmp_in} in: \")\n",
    "    \n",
    "    tmp_in = tmp_in.replace(\" \",\"_\")\n",
    "    city.append((tmp_in, tmp_st))\n",
    "\n",
    "for i in range(2):\n",
    "    city_url = \"https://en.wikipedia.org/wiki/\"+ city[i][0]+',_'+city[i][1]\n",
    "\n",
    "    res = requests.get(city_url)\n",
    "\n",
    "    soup = bs4.BeautifulSoup(res.text,'lxml')\n",
    "\n",
    "    lat_soup = soup.select('.latitude')\n",
    "    long_soup = soup.select('.longitude')\n",
    "\n",
    "    long = long_soup[0].getText()\n",
    "    lat = lat_soup[0].getText()\n",
    "    \n",
    "    long_rad = conv_cord(long)\n",
    "    lat_rad = conv_cord(lat)\n",
    "    \n",
    "    cord.append((lat_rad, long_rad))\n",
    "\n",
    "d = dist_m(cord[0],cord[1])\n",
    "\n",
    "print(\"Distance: \"+str(round(d,2)) + \"nm\")\n",
    "print(\"Distance: \"+str(round(d*1.150,2)) + \" miles\")\n",
    "\n",
    "# distance formula. from: http://edwilliams.org/avform147.htm#Intro\n",
    "# d=acos(sin(lat1)*sin(lat2)+cos(lat1)*cos(lat2)*cos(lon1-lon2))\n",
    "    # where lat=(deg+min/60)*pi/180, lon=(deg+min/60)*pi/180\n",
    "    # convert cordinates to radians\n",
    "#nm to miles conversion per https://oceanservice.noaa.gov/facts/nautical-mile-knot.html\n"
   ]
  },
  {
   "cell_type": "code",
   "execution_count": null,
   "id": "5f4829b1",
   "metadata": {},
   "outputs": [],
   "source": []
  }
 ],
 "metadata": {
  "kernelspec": {
   "display_name": "Python 3 (ipykernel)",
   "language": "python",
   "name": "python3"
  },
  "language_info": {
   "codemirror_mode": {
    "name": "ipython",
    "version": 3
   },
   "file_extension": ".py",
   "mimetype": "text/x-python",
   "name": "python",
   "nbconvert_exporter": "python",
   "pygments_lexer": "ipython3",
   "version": "3.9.16"
  }
 },
 "nbformat": 4,
 "nbformat_minor": 5
}
